{
 "cells": [
  {
   "cell_type": "code",
   "execution_count": 1,
   "metadata": {},
   "outputs": [],
   "source": [
    "import pandas as pd\n",
    "import matplotlib.pyplot as plt\n",
    "import matplotlib as mpl\n",
    "mpl.rcParams['xtick.labelsize'] = 14\n",
    "mpl.rcParams['ytick.labelsize'] = 14\n",
    "mpl.rcParams['axes.labelsize'] = 16\n",
    "mpl.rcParams['axes.titlesize'] = 20\n",
    "COLORS=[(44/255, 160/255, 44/255, 1), (255/255, 127/255, 14/255, 1), (214/255, 39/255, 40/255, 1), (31/255, 119/255, 180/255, 1)]\n",
    "# COLORS=(255, 0, 0)"
   ]
  },
  {
   "cell_type": "code",
   "execution_count": 2,
   "metadata": {},
   "outputs": [
    {
     "data": {
      "text/html": [
       "<div>\n",
       "<style scoped>\n",
       "    .dataframe tbody tr th:only-of-type {\n",
       "        vertical-align: middle;\n",
       "    }\n",
       "\n",
       "    .dataframe tbody tr th {\n",
       "        vertical-align: top;\n",
       "    }\n",
       "\n",
       "    .dataframe thead th {\n",
       "        text-align: right;\n",
       "    }\n",
       "</style>\n",
       "<table border=\"1\" class=\"dataframe\">\n",
       "  <thead>\n",
       "    <tr style=\"text-align: right;\">\n",
       "      <th></th>\n",
       "      <th>gid</th>\n",
       "      <th>date</th>\n",
       "      <th>game</th>\n",
       "      <th>players</th>\n",
       "      <th>winner</th>\n",
       "    </tr>\n",
       "  </thead>\n",
       "  <tbody>\n",
       "    <tr>\n",
       "      <th>0</th>\n",
       "      <td>1</td>\n",
       "      <td>26/9/20</td>\n",
       "      <td>Lhama</td>\n",
       "      <td>David</td>\n",
       "      <td>Isela</td>\n",
       "    </tr>\n",
       "    <tr>\n",
       "      <th>1</th>\n",
       "      <td>1</td>\n",
       "      <td>26/9/20</td>\n",
       "      <td>Lhama</td>\n",
       "      <td>Arturo</td>\n",
       "      <td>Isela</td>\n",
       "    </tr>\n",
       "    <tr>\n",
       "      <th>2</th>\n",
       "      <td>1</td>\n",
       "      <td>26/9/20</td>\n",
       "      <td>Lhama</td>\n",
       "      <td>Isela</td>\n",
       "      <td>Isela</td>\n",
       "    </tr>\n",
       "    <tr>\n",
       "      <th>3</th>\n",
       "      <td>2</td>\n",
       "      <td>26/9/20</td>\n",
       "      <td>Lhama</td>\n",
       "      <td>David</td>\n",
       "      <td>Isela</td>\n",
       "    </tr>\n",
       "    <tr>\n",
       "      <th>4</th>\n",
       "      <td>2</td>\n",
       "      <td>26/9/20</td>\n",
       "      <td>Lhama</td>\n",
       "      <td>Arturo</td>\n",
       "      <td>Isela</td>\n",
       "    </tr>\n",
       "  </tbody>\n",
       "</table>\n",
       "</div>"
      ],
      "text/plain": [
       "   gid     date   game players winner\n",
       "0    1  26/9/20  Lhama   David  Isela\n",
       "1    1  26/9/20  Lhama  Arturo  Isela\n",
       "2    1  26/9/20  Lhama   Isela  Isela\n",
       "3    2  26/9/20  Lhama   David  Isela\n",
       "4    2  26/9/20  Lhama  Arturo  Isela"
      ]
     },
     "execution_count": 2,
     "metadata": {},
     "output_type": "execute_result"
    }
   ],
   "source": [
    "df = pd.read_csv('./out/database.csv')\n",
    "df.head()"
   ]
  },
  {
   "cell_type": "code",
   "execution_count": 3,
   "metadata": {},
   "outputs": [],
   "source": [
    "winners = list()\n",
    "for row in df['gid'].unique():\n",
    "    winners.append(df[df['gid'] == row]['winner'].values[0])"
   ]
  },
  {
   "cell_type": "code",
   "execution_count": 4,
   "metadata": {},
   "outputs": [
    {
     "data": {
      "text/html": [
       "<div>\n",
       "<style scoped>\n",
       "    .dataframe tbody tr th:only-of-type {\n",
       "        vertical-align: middle;\n",
       "    }\n",
       "\n",
       "    .dataframe tbody tr th {\n",
       "        vertical-align: top;\n",
       "    }\n",
       "\n",
       "    .dataframe thead tr th {\n",
       "        text-align: left;\n",
       "    }\n",
       "\n",
       "    .dataframe thead tr:last-of-type th {\n",
       "        text-align: right;\n",
       "    }\n",
       "</style>\n",
       "<table border=\"1\" class=\"dataframe\">\n",
       "  <thead>\n",
       "    <tr>\n",
       "      <th></th>\n",
       "      <th></th>\n",
       "      <th>players</th>\n",
       "    </tr>\n",
       "    <tr>\n",
       "      <th></th>\n",
       "      <th></th>\n",
       "      <th>count</th>\n",
       "    </tr>\n",
       "    <tr>\n",
       "      <th>game</th>\n",
       "      <th>players</th>\n",
       "      <th></th>\n",
       "    </tr>\n",
       "  </thead>\n",
       "  <tbody>\n",
       "    <tr>\n",
       "      <th rowspan=\"4\" valign=\"top\">Bohnanza</th>\n",
       "      <th>Adriano</th>\n",
       "      <td>3</td>\n",
       "    </tr>\n",
       "    <tr>\n",
       "      <th>Arturo</th>\n",
       "      <td>4</td>\n",
       "    </tr>\n",
       "    <tr>\n",
       "      <th>David</th>\n",
       "      <td>2</td>\n",
       "    </tr>\n",
       "    <tr>\n",
       "      <th>Isela</th>\n",
       "      <td>4</td>\n",
       "    </tr>\n",
       "    <tr>\n",
       "      <th>Encantados</th>\n",
       "      <th>Adriano</th>\n",
       "      <td>2</td>\n",
       "    </tr>\n",
       "  </tbody>\n",
       "</table>\n",
       "</div>"
      ],
      "text/plain": [
       "                   players\n",
       "                     count\n",
       "game       players        \n",
       "Bohnanza   Adriano       3\n",
       "           Arturo        4\n",
       "           David         2\n",
       "           Isela         4\n",
       "Encantados Adriano       2"
      ]
     },
     "execution_count": 4,
     "metadata": {},
     "output_type": "execute_result"
    }
   ],
   "source": [
    "games_by_players = df.groupby(['game', 'players']).agg({'players': ['count']})#.reset_index()\n",
    "games_by_players.head()"
   ]
  },
  {
   "cell_type": "code",
   "execution_count": 5,
   "metadata": {},
   "outputs": [
    {
     "data": {
      "text/html": [
       "<div>\n",
       "<style scoped>\n",
       "    .dataframe tbody tr th:only-of-type {\n",
       "        vertical-align: middle;\n",
       "    }\n",
       "\n",
       "    .dataframe tbody tr th {\n",
       "        vertical-align: top;\n",
       "    }\n",
       "\n",
       "    .dataframe thead th {\n",
       "        text-align: right;\n",
       "    }\n",
       "</style>\n",
       "<table border=\"1\" class=\"dataframe\">\n",
       "  <thead>\n",
       "    <tr style=\"text-align: right;\">\n",
       "      <th></th>\n",
       "      <th>count</th>\n",
       "    </tr>\n",
       "    <tr>\n",
       "      <th>players</th>\n",
       "      <th></th>\n",
       "    </tr>\n",
       "  </thead>\n",
       "  <tbody>\n",
       "    <tr>\n",
       "      <th>Adriano</th>\n",
       "      <td>16</td>\n",
       "    </tr>\n",
       "    <tr>\n",
       "      <th>Arturo</th>\n",
       "      <td>39</td>\n",
       "    </tr>\n",
       "    <tr>\n",
       "      <th>David</th>\n",
       "      <td>30</td>\n",
       "    </tr>\n",
       "    <tr>\n",
       "      <th>Isela</th>\n",
       "      <td>39</td>\n",
       "    </tr>\n",
       "  </tbody>\n",
       "</table>\n",
       "</div>"
      ],
      "text/plain": [
       "         count\n",
       "players       \n",
       "Adriano     16\n",
       "Arturo      39\n",
       "David       30\n",
       "Isela       39"
      ]
     },
     "execution_count": 5,
     "metadata": {},
     "output_type": "execute_result"
    }
   ],
   "source": [
    "total_games = games_by_players['players'].groupby(['players']).agg({'count': 'sum'})\n",
    "total_games.head()"
   ]
  },
  {
   "cell_type": "code",
   "execution_count": 6,
   "metadata": {},
   "outputs": [],
   "source": [
    "players_names = df['players'].unique()\n",
    "\n",
    "total_efficience = dict()\n",
    "hist_winners = dict()\n",
    "\n",
    "for player in players_names:\n",
    "    player_df = total_games.loc[player]['count']\n",
    "    victories = len(list(\n",
    "        filter(\n",
    "            lambda i: i == player, winners\n",
    "        )\n",
    "    ))\n",
    "    total_efficience[player] = (victories/player_df)*100\n",
    "    hist_winners[player] = victories"
   ]
  },
  {
   "cell_type": "code",
   "execution_count": 7,
   "metadata": {},
   "outputs": [
    {
     "data": {
      "text/html": [
       "<div>\n",
       "<style scoped>\n",
       "    .dataframe tbody tr th:only-of-type {\n",
       "        vertical-align: middle;\n",
       "    }\n",
       "\n",
       "    .dataframe tbody tr th {\n",
       "        vertical-align: top;\n",
       "    }\n",
       "\n",
       "    .dataframe thead th {\n",
       "        text-align: right;\n",
       "    }\n",
       "</style>\n",
       "<table border=\"1\" class=\"dataframe\">\n",
       "  <thead>\n",
       "    <tr style=\"text-align: right;\">\n",
       "      <th></th>\n",
       "      <th>game</th>\n",
       "      <th>player</th>\n",
       "      <th>efficience</th>\n",
       "    </tr>\n",
       "  </thead>\n",
       "  <tbody>\n",
       "    <tr>\n",
       "      <th>0</th>\n",
       "      <td>Lhama</td>\n",
       "      <td>David</td>\n",
       "      <td>63</td>\n",
       "    </tr>\n",
       "    <tr>\n",
       "      <th>1</th>\n",
       "      <td>Port Royal</td>\n",
       "      <td>David</td>\n",
       "      <td>33</td>\n",
       "    </tr>\n",
       "    <tr>\n",
       "      <th>2</th>\n",
       "      <td>Munchkin</td>\n",
       "      <td>David</td>\n",
       "      <td>0</td>\n",
       "    </tr>\n",
       "    <tr>\n",
       "      <th>3</th>\n",
       "      <td>Encantados</td>\n",
       "      <td>David</td>\n",
       "      <td>33</td>\n",
       "    </tr>\n",
       "    <tr>\n",
       "      <th>4</th>\n",
       "      <td>Saboteur</td>\n",
       "      <td>David</td>\n",
       "      <td>0</td>\n",
       "    </tr>\n",
       "  </tbody>\n",
       "</table>\n",
       "</div>"
      ],
      "text/plain": [
       "         game player  efficience\n",
       "0       Lhama  David          63\n",
       "1  Port Royal  David          33\n",
       "2    Munchkin  David           0\n",
       "3  Encantados  David          33\n",
       "4    Saboteur  David           0"
      ]
     },
     "execution_count": 7,
     "metadata": {},
     "output_type": "execute_result"
    }
   ],
   "source": [
    "game_efficience = dict(\n",
    "    game = list(), player = list(), efficience = list()\n",
    ")\n",
    "for player in df['players'].unique():\n",
    "    for game in df['game'].unique():\n",
    "        vic = df.query(\"game == '{0}' and players == '{1}' and winner == '{1}'\".format(game, player))\n",
    "        try:\n",
    "            par = games_by_players.loc[game].loc[player][0]\n",
    "            game_efficience['game'].append(game)\n",
    "            game_efficience['player'].append(player)\n",
    "            game_efficience['efficience'].append((vic.count()[0]/par)*100)\n",
    "        except KeyError:\n",
    "            game_efficience['game'].append(game)\n",
    "            game_efficience['player'].append(player)\n",
    "            game_efficience['efficience'].append(0)\n",
    "\n",
    "game_efficience = pd.DataFrame(game_efficience).astype({'efficience': int})\n",
    "game_efficience.head()"
   ]
  },
  {
   "cell_type": "code",
   "execution_count": 8,
   "metadata": {},
   "outputs": [
    {
     "data": {
      "text/html": [
       "<div>\n",
       "<style scoped>\n",
       "    .dataframe tbody tr th:only-of-type {\n",
       "        vertical-align: middle;\n",
       "    }\n",
       "\n",
       "    .dataframe tbody tr th {\n",
       "        vertical-align: top;\n",
       "    }\n",
       "\n",
       "    .dataframe thead th {\n",
       "        text-align: right;\n",
       "    }\n",
       "</style>\n",
       "<table border=\"1\" class=\"dataframe\">\n",
       "  <thead>\n",
       "    <tr style=\"text-align: right;\">\n",
       "      <th>player</th>\n",
       "      <th>Adriano</th>\n",
       "      <th>Arturo</th>\n",
       "      <th>David</th>\n",
       "      <th>Isela</th>\n",
       "    </tr>\n",
       "    <tr>\n",
       "      <th>game</th>\n",
       "      <th></th>\n",
       "      <th></th>\n",
       "      <th></th>\n",
       "      <th></th>\n",
       "    </tr>\n",
       "  </thead>\n",
       "  <tbody>\n",
       "    <tr>\n",
       "      <th>Bohnanza</th>\n",
       "      <td>0</td>\n",
       "      <td>25</td>\n",
       "      <td>0</td>\n",
       "      <td>75</td>\n",
       "    </tr>\n",
       "    <tr>\n",
       "      <th>Encantados</th>\n",
       "      <td>0</td>\n",
       "      <td>75</td>\n",
       "      <td>33</td>\n",
       "      <td>0</td>\n",
       "    </tr>\n",
       "    <tr>\n",
       "      <th>Lhama</th>\n",
       "      <td>33</td>\n",
       "      <td>13</td>\n",
       "      <td>63</td>\n",
       "      <td>26</td>\n",
       "    </tr>\n",
       "    <tr>\n",
       "      <th>Munchkin</th>\n",
       "      <td>0</td>\n",
       "      <td>50</td>\n",
       "      <td>0</td>\n",
       "      <td>50</td>\n",
       "    </tr>\n",
       "    <tr>\n",
       "      <th>Ninja Camp</th>\n",
       "      <td>0</td>\n",
       "      <td>100</td>\n",
       "      <td>0</td>\n",
       "      <td>0</td>\n",
       "    </tr>\n",
       "    <tr>\n",
       "      <th>Port Royal</th>\n",
       "      <td>0</td>\n",
       "      <td>62</td>\n",
       "      <td>33</td>\n",
       "      <td>12</td>\n",
       "    </tr>\n",
       "    <tr>\n",
       "      <th>Saboteur</th>\n",
       "      <td>0</td>\n",
       "      <td>100</td>\n",
       "      <td>0</td>\n",
       "      <td>0</td>\n",
       "    </tr>\n",
       "  </tbody>\n",
       "</table>\n",
       "</div>"
      ],
      "text/plain": [
       "player      Adriano  Arturo  David  Isela\n",
       "game                                     \n",
       "Bohnanza          0      25      0     75\n",
       "Encantados        0      75     33      0\n",
       "Lhama            33      13     63     26\n",
       "Munchkin          0      50      0     50\n",
       "Ninja Camp        0     100      0      0\n",
       "Port Royal        0      62     33     12\n",
       "Saboteur          0     100      0      0"
      ]
     },
     "execution_count": 8,
     "metadata": {},
     "output_type": "execute_result"
    }
   ],
   "source": [
    "game_pivot = game_efficience.pivot(\"game\", \"player\", \"efficience\")\n",
    "game_pivot"
   ]
  },
  {
   "cell_type": "code",
   "execution_count": 9,
   "metadata": {},
   "outputs": [
    {
     "data": {
      "image/png": "[encoded data removed]",
      "text/plain": [
       "<Figure size 864x1224 with 2 Axes>"
      ]
     },
     "metadata": {
      "needs_background": "light"
     },
     "output_type": "display_data"
    }
   ],
   "source": [
    "fig, ax = plt.subplots(2, 1, figsize=(12, 17))\n",
    "ax[0].grid()\n",
    "bars = ax[0].bar(hist_winners.keys(), hist_winners.values())\n",
    "for i, color in enumerate(COLORS):\n",
    "    bars[i].set_color(color)\n",
    "ax[0].set_title('Total de vitória por Jogador \\n(%d jogos)'%sum(hist_winners.values()))\n",
    "ax[0].set_xlabel('Jogador')\n",
    "ax[0].set_ylabel('Total')\n",
    "\n",
    "ax[1].grid()\n",
    "bars = ax[1].bar(total_efficience.keys(), total_efficience.values())\n",
    "for i, color in enumerate(COLORS):\n",
    "    bars[i].set_color(color)\n",
    "ax[1].set_title('Eficiência de vitórias por Jogador \\n(%d jogos)'%sum(hist_winners.values()))\n",
    "ax[1].set_xlabel('Jogador')\n",
    "ax[1].set_ylabel('%')\n",
    "\n",
    "plt.savefig('./fig/general_statistics.png', facecolor='w')"
   ]
  },
  {
   "cell_type": "code",
   "execution_count": 10,
   "metadata": {},
   "outputs": [
    {
     "data": {
      "image/png": "[encoded data removed]",
      "text/plain": [
       "<Figure size 1008x432 with 1 Axes>"
      ]
     },
     "metadata": {
      "needs_background": "light"
     },
     "output_type": "display_data"
    }
   ],
   "source": [
    "_, ax = plt.subplots(figsize=(14, 6))\n",
    "bars = game_pivot.plot(kind='bar', grid=True, ax=ax)\n",
    "ax.tick_params(axis='x', rotation=0)\n",
    "\n",
    "plt.savefig(\"./fig/eficiencia_por_jogo.png\", facecolor='w')"
   ]
  }
 ],
 "metadata": {
  "kernelspec": {
   "display_name": "Python 3",
   "language": "python",
   "name": "python3"
  },
  "language_info": {
   "codemirror_mode": {
    "name": "ipython",
    "version": 3
   },
   "file_extension": ".py",
   "mimetype": "text/x-python",
   "name": "python",
   "nbconvert_exporter": "python",
   "pygments_lexer": "ipython3",
   "version": "3.8.5"
  }
 },
 "nbformat": 4,
 "nbformat_minor": 4
}
